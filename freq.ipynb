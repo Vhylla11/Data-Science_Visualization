{
 "cells": [
  {
   "cell_type": "code",
   "execution_count": 89,
   "metadata": {},
   "outputs": [],
   "source": [
    "import pandas as pd\n",
    "import numpy as np\n",
    "import matplotlib.pyplot as plt\n",
    "import matplotlib.image as im"
   ]
  },
  {
   "cell_type": "markdown",
   "metadata": {},
   "source": [
    "# PICTURE"
   ]
  },
  {
   "cell_type": "code",
   "execution_count": 41,
   "metadata": {},
   "outputs": [],
   "source": [
    "# pict = im.imread ('images.jpg')\n",
    "# plt.imshow(pict)\n",
    "# plt.show()"
   ]
  },
  {
   "cell_type": "markdown",
   "metadata": {},
   "source": [
    "# Menampilkan FreQ dan korelasi suatu data"
   ]
  },
  {
   "cell_type": "code",
   "execution_count": 90,
   "metadata": {},
   "outputs": [
    {
     "name": "stdout",
     "output_type": "stream",
     "text": [
      "   nama    mobil  jumlah\n",
      "0  Andi  mobil A      20\n",
      "1  Andi  mobil B      22\n",
      "2  Andi  mobil C      66\n",
      "3  Budi  mobil A      21\n",
      "4  Budi  mobil B      19\n",
      "5  Budi  mobil C      34\n",
      "6  Caca  mobil A      33\n",
      "7  Caca  mobil B      40\n",
      "8  Caca  mobil C       2\n"
     ]
    }
   ],
   "source": [
    "# buat dataFrame\n",
    "df = pd.read_csv('datasales.csv')\n",
    "print (df)"
   ]
  },
  {
   "cell_type": "code",
   "execution_count": 92,
   "metadata": {},
   "outputs": [
    {
     "name": "stdout",
     "output_type": "stream",
     "text": [
      "       jumlah                \n",
      "mobil mobil A mobil B mobil C\n",
      "nama                         \n",
      "Andi       20      22      66\n",
      "Budi       21      19      34\n",
      "Caca       33      40       2\n"
     ]
    },
    {
     "data": {
      "image/png": "[encoded data removed]",
      "text/plain": [
       "<Figure size 432x288 with 2 Axes>"
      ]
     },
     "metadata": {
      "needs_background": "light"
     },
     "output_type": "display_data"
    }
   ],
   "source": [
    "## PIVOT : MEMBUAT TAMPILAN DATA LEBIH BAGUS\n",
    "\n",
    "df = df.pivot(index='nama',columns='mobil')\n",
    "print (df)\n",
    "plt.imshow(df,cmap='hot')\n",
    "plt.colorbar()\n",
    "plt.show()\n",
    "\n",
    "# # mau liat nama mobil\n",
    "# print(df.columns[2])"
   ]
  },
  {
   "cell_type": "code",
   "execution_count": 93,
   "metadata": {},
   "outputs": [
    {
     "ename": "SyntaxError",
     "evalue": "invalid syntax (<ipython-input-93-a9085b5bf423>, line 14)",
     "output_type": "error",
     "traceback": [
      "\u001b[1;36m  File \u001b[1;32m\"<ipython-input-93-a9085b5bf423>\"\u001b[1;36m, line \u001b[1;32m14\u001b[0m\n\u001b[1;33m    Python 3\u001b[0m\n\u001b[1;37m           ^\u001b[0m\n\u001b[1;31mSyntaxError\u001b[0m\u001b[1;31m:\u001b[0m invalid syntax\n"
     ]
    }
   ],
   "source": [
    "## tampilkan nama mobil dan kolom berbeda\n",
    "fig, p =plt.subplots()\n",
    "plt.imshow(df)\n",
    "plt.colorbar()\n",
    "col = list(map(lambda x:x[1],df.columns.tolist()))\n",
    "i = list(map(lambda x:x,df.index.tolist()))\n",
    "print(i)\n",
    "p.set_xticks(np.arange(len(col)))\n",
    "p.set_xticklabels(col)\n",
    "p.set_yticks(np.arange(len(i)))\n",
    "p.set_yticklabels(i)\n",
    "plt.show()\n",
    "\n",
    "Python 3\n",
    "import pandas as pd\n",
    "import numpy as np\n",
    "import matplotlib.pyplot as plt\n",
    "import matplotlib.image as im\n",
    "PICTURE\n",
    "# pict = im.imread ('images.jpg')\n",
    "# plt.imshow(pict)\n",
    "# plt.show()\n",
    "Menampilkan FreQ dan korelasi suatu data\n",
    "# buat dataFrame\n",
    "df = pd.read_csv('datasales.csv')\n",
    "print (df)\n",
    "   nama    mobil  jumlah\n",
    "0  Andi  mobil A      20\n",
    "1  Andi  mobil B      22\n",
    "2  Andi  mobil C      66\n",
    "3  Budi  mobil A      21\n",
    "4  Budi  mobil B      19\n",
    "5  Budi  mobil C      34\n",
    "6  Caca  mobil A      33\n",
    "7  Caca  mobil B      40\n",
    "8  Caca  mobil C       2\n",
    "## PIVOT : MEMBUAT TAMPILAN DATA LEBIH BAGUS\n",
    "​\n",
    "df = df.pivot(index='nama',columns='mobil')\n",
    "print (df)\n",
    "plt.imshow(df,cmap='hot')\n",
    "plt.colorbar()\n",
    "plt.show()\n",
    "​\n",
    "# # mau liat nama mobil\n",
    "# print(df.columns[2])\n",
    "       jumlah                \n",
    "mobil mobil A mobil B mobil C\n",
    "nama                         \n",
    "Andi       20      22      66\n",
    "Budi       21      19      34\n",
    "Caca       33      40       2\n",
    "\n",
    "## tampilkan nama mobil dan kolom berbeda\n",
    "fig, p =plt.subplots()\n",
    "plt.imshow(df)\n",
    "plt.colorbar()\n",
    "col = list(map(lambda x:x[1],df.columns.tolist()))\n",
    "i = list(map(lambda x:x,df.index.tolist()))\n",
    "print(i)\n",
    "p.set_xticks(np.arange(len(col)))\n",
    "p.set_xticklabels(col)\n",
    "p.set_yticks(np.arange(len(i)))\n",
    "p.set_yticklabels(i)\n",
    "plt.show()\n",
    "---------------------------------------------------------------------------"
   ]
  },
  {
   "cell_type": "code",
   "execution_count": 94,
   "metadata": {},
   "outputs": [
    {
     "name": "stdout",
     "output_type": "stream",
     "text": [
      "['Andi', 'Budi', 'Caca']\n"
     ]
    },
    {
     "data": {
      "image/png": "[encoded data removed]",
      "text/plain": [
       "<Figure size 432x288 with 2 Axes>"
      ]
     },
     "metadata": {
      "needs_background": "light"
     },
     "output_type": "display_data"
    }
   ],
   "source": [
    "## Tampilkan Value di Kotak\n",
    "\n",
    "fig, p =plt.subplots()\n",
    "plt.imshow(df)\n",
    "plt.colorbar()\n",
    "col = list(map(lambda x:x[1],df.columns.tolist()))\n",
    "i = list(map(lambda x:x,df.index.tolist()))\n",
    "print(i)\n",
    "\n",
    "for x in range (len(i)) :\n",
    "    for y in range (len(col)):\n",
    "        p.text(y,x, df.iloc[x,y],color='r',fontsize=20,ha='center',va='center')\n",
    "p.set_xticks(np.arange(len(col)))\n",
    "p.set_xticklabels(col)\n",
    "p.set_yticks(np.arange(len(i)))\n",
    "p.set_yticklabels(i)\n",
    "p.set_ylim(2.5,-0.5)\n",
    "plt.show()"
   ]
  },
  {
   "cell_type": "markdown",
   "metadata": {},
   "source": [
    "# Korelasi\n"
   ]
  },
  {
   "cell_type": "code",
   "execution_count": 97,
   "metadata": {},
   "outputs": [
    {
     "data": {
      "text/html": [
       "<div>\n",
       "<style scoped>\n",
       "    .dataframe tbody tr th:only-of-type {\n",
       "        vertical-align: middle;\n",
       "    }\n",
       "\n",
       "    .dataframe tbody tr th {\n",
       "        vertical-align: top;\n",
       "    }\n",
       "\n",
       "    .dataframe thead th {\n",
       "        text-align: right;\n",
       "    }\n",
       "</style>\n",
       "<table border=\"1\" class=\"dataframe\">\n",
       "  <thead>\n",
       "    <tr style=\"text-align: right;\">\n",
       "      <th></th>\n",
       "      <th>BB</th>\n",
       "      <th>TB</th>\n",
       "      <th>freq_Makan</th>\n",
       "      <th>freq_Latihan</th>\n",
       "      <th>medal</th>\n",
       "    </tr>\n",
       "  </thead>\n",
       "  <tbody>\n",
       "    <tr>\n",
       "      <td>BB</td>\n",
       "      <td>1.000000</td>\n",
       "      <td>0.052414</td>\n",
       "      <td>0.944911</td>\n",
       "      <td>-0.994192</td>\n",
       "      <td>-0.981981</td>\n",
       "    </tr>\n",
       "    <tr>\n",
       "      <td>TB</td>\n",
       "      <td>0.052414</td>\n",
       "      <td>1.000000</td>\n",
       "      <td>-0.277350</td>\n",
       "      <td>-0.159586</td>\n",
       "      <td>-0.240192</td>\n",
       "    </tr>\n",
       "    <tr>\n",
       "      <td>freq_Makan</td>\n",
       "      <td>0.944911</td>\n",
       "      <td>-0.277350</td>\n",
       "      <td>1.000000</td>\n",
       "      <td>-0.904194</td>\n",
       "      <td>-0.866025</td>\n",
       "    </tr>\n",
       "    <tr>\n",
       "      <td>freq_Latihan</td>\n",
       "      <td>-0.994192</td>\n",
       "      <td>-0.159586</td>\n",
       "      <td>-0.904194</td>\n",
       "      <td>1.000000</td>\n",
       "      <td>0.996616</td>\n",
       "    </tr>\n",
       "    <tr>\n",
       "      <td>medal</td>\n",
       "      <td>-0.981981</td>\n",
       "      <td>-0.240192</td>\n",
       "      <td>-0.866025</td>\n",
       "      <td>0.996616</td>\n",
       "      <td>1.000000</td>\n",
       "    </tr>\n",
       "  </tbody>\n",
       "</table>\n",
       "</div>"
      ],
      "text/plain": [
       "                    BB        TB  freq_Makan  freq_Latihan     medal\n",
       "BB            1.000000  0.052414    0.944911     -0.994192 -0.981981\n",
       "TB            0.052414  1.000000   -0.277350     -0.159586 -0.240192\n",
       "freq_Makan    0.944911 -0.277350    1.000000     -0.904194 -0.866025\n",
       "freq_Latihan -0.994192 -0.159586   -0.904194      1.000000  0.996616\n",
       "medal        -0.981981 -0.240192   -0.866025      0.996616  1.000000"
      ]
     },
     "execution_count": 97,
     "metadata": {},
     "output_type": "execute_result"
    }
   ],
   "source": [
    "df = pd.read_csv('atlit.csv')\n",
    "df.corr()\n",
    "\n",
    "## kalau korelasi terpotong paka \n",
    "#plt.xlim(-0.5,4.5) dan plt.ylim(-0.5,4.5)\n"
   ]
  },
  {
   "cell_type": "code",
   "execution_count": 1,
   "metadata": {},
   "outputs": [
    {
     "ename": "SyntaxError",
     "evalue": "invalid syntax (<ipython-input-1-f188d5ac1197>, line 1)",
     "output_type": "error",
     "traceback": [
      "\u001b[1;36m  File \u001b[1;32m\"<ipython-input-1-f188d5ac1197>\"\u001b[1;36m, line \u001b[1;32m1\u001b[0m\n\u001b[1;33m    git init\u001b[0m\n\u001b[1;37m           ^\u001b[0m\n\u001b[1;31mSyntaxError\u001b[0m\u001b[1;31m:\u001b[0m invalid syntax\n"
     ]
    }
   ],
   "source": []
  },
  {
   "cell_type": "code",
   "execution_count": null,
   "metadata": {},
   "outputs": [],
   "source": []
  }
 ],
 "metadata": {
  "kernelspec": {
   "display_name": "Python 3",
   "language": "python",
   "name": "python3"
  },
  "language_info": {
   "codemirror_mode": {
    "name": "ipython",
    "version": 3
   },
   "file_extension": ".py",
   "mimetype": "text/x-python",
   "name": "python",
   "nbconvert_exporter": "python",
   "pygments_lexer": "ipython3",
   "version": "3.7.4"
  }
 },
 "nbformat": 4,
 "nbformat_minor": 4
}
